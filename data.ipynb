{
 "cells": [
  {
   "cell_type": "code",
   "execution_count": 7,
   "metadata": {},
   "outputs": [
    {
     "name": "stdout",
     "output_type": "stream",
     "text": [
      "https://static.zara.net/photos///2024/V/0/3/p/5767/521/712/2/w/2048/5767521712_6_1_1.jpg?ts=1707751045954\n",
      "https://static.zara.net/photos///2024/V/0/3/p/5767/521/712/2/w/2048/5767521712_6_2_1.jpg?ts=1707751045737\n",
      "https://static.zara.net/photos///2024/V/0/3/p/5767/521/712/2/w/2048/5767521712_3_1_1.jpg?ts=1707751046435\n"
     ]
    },
    {
     "data": {
      "text/plain": [
       "'\\n# Example link\\nimage_link = \"https://static.zara.net/photos/2024/V/0/3/p/5767/521/712/2/w/2048/5767521712_6_1_1.jpg?ts=1707751045954\"\\n\\n# Send a GET request to the image URL\\nresponse = requests.get(image_link)\\n\\n# Check if the request was successful\\nimage_data = response.content\\n    \\n    # Open the image using PIL\\nimg = Image.open(BytesIO(image_data))\\n    \\n    # Display the image\\nimg.show()\\n\\n'"
      ]
     },
     "execution_count": 7,
     "metadata": {},
     "output_type": "execute_result"
    }
   ],
   "source": [
    "import requests\n",
    "from PIL import Image\n",
    "from io import BytesIO\n",
    "import pandas as pd\n",
    "\n",
    "# Assuming your CSV file is named 'data.csv'\n",
    "file_path = 'inditex_df.csv'\n",
    "\n",
    "# Read the CSV file into a DataFrame\n",
    "df = pd.read_csv(file_path)\n",
    "\n",
    "# Display the first few rows of the DataFrame\n",
    "#print(df.head())\n",
    "\n",
    "\n",
    "for index,image in df[0:1].iterrows():\n",
    "    print(image['IMAGE_VERSION_1'])\n",
    "    print(image['IMAGE_VERSION_2'])\n",
    "    print(image['IMAGE_VERSION_3'])\n",
    "\n",
    "\n",
    "'''\n",
    "# Example link\n",
    "image_link = \"https://static.zara.net/photos/2024/V/0/3/p/5767/521/712/2/w/2048/5767521712_6_1_1.jpg?ts=1707751045954\"\n",
    "\n",
    "# Send a GET request to the image URL\n",
    "response = requests.get(image_link)\n",
    "\n",
    "# Check if the request was successful\n",
    "image_data = response.content\n",
    "    \n",
    "    # Open the image using PIL\n",
    "img = Image.open(BytesIO(image_data))\n",
    "    \n",
    "    # Display the image\n",
    "img.show()\n",
    "\n",
    "'''"
   ]
  },
  {
   "cell_type": "code",
   "execution_count": null,
   "metadata": {},
   "outputs": [],
   "source": []
  }
 ],
 "metadata": {
  "kernelspec": {
   "display_name": "Python 3",
   "language": "python",
   "name": "python3"
  },
  "language_info": {
   "codemirror_mode": {
    "name": "ipython",
    "version": 3
   },
   "file_extension": ".py",
   "mimetype": "text/x-python",
   "name": "python",
   "nbconvert_exporter": "python",
   "pygments_lexer": "ipython3",
   "version": "3.12.2"
  }
 },
 "nbformat": 4,
 "nbformat_minor": 2
}
