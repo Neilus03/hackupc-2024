{
 "cells": [
  {
   "cell_type": "code",
   "execution_count": 2,
   "metadata": {},
   "outputs": [
    {
     "name": "stdout",
     "output_type": "stream",
     "text": [
      "                                     IMAGE_VERSION_1   \n",
      "0  https://static.zara.net/photos///2024/V/0/3/p/...  \\\n",
      "1  https://static.zara.net/photos///2024/V/0/3/p/...   \n",
      "2  https://static.zara.net/photos///2024/V/0/1/p/...   \n",
      "3  https://static.zara.net/photos///2024/V/0/2/p/...   \n",
      "4  https://static.zara.net/photos///2024/V/0/2/p/...   \n",
      "\n",
      "                                     IMAGE_VERSION_2   \n",
      "0  https://static.zara.net/photos///2024/V/0/3/p/...  \\\n",
      "1  https://static.zara.net/photos///2024/V/0/3/p/...   \n",
      "2  https://static.zara.net/photos///2024/V/0/1/p/...   \n",
      "3  https://static.zara.net/photos///2024/V/0/2/p/...   \n",
      "4  https://static.zara.net/photos///2024/V/0/2/p/...   \n",
      "\n",
      "                                     IMAGE_VERSION_3  \n",
      "0  https://static.zara.net/photos///2024/V/0/3/p/...  \n",
      "1  https://static.zara.net/photos///2024/V/0/3/p/...  \n",
      "2  https://static.zara.net/photos///2024/V/0/1/p/...  \n",
      "3  https://static.zara.net/photos///2024/V/0/2/p/...  \n",
      "4  https://static.zara.net/photos///2024/V/0/2/p/...  \n",
      "https://static.zara.net/photos///2024/V/0/3/p/5767/521/712/2/w/2048/5767521712_6_1_1.jpg?ts=1707751045954\n",
      "https://static.zara.net/photos///2024/V/0/3/p/5767/521/712/2/w/2048/5767521712_6_2_1.jpg?ts=1707751045737\n",
      "https://static.zara.net/photos///2024/V/0/3/p/5767/521/712/2/w/2048/5767521712_3_1_1.jpg?ts=1707751046435\n"
     ]
    }
   ],
   "source": [
    "import requests\n",
    "from PIL import Image\n",
    "from io import BytesIO\n",
    "import pandas as pd\n",
    "import random\n",
    "\n",
    "# Assuming your CSV file is named 'data.csv'\n",
    "file_path = 'inditex_df.csv'\n",
    "\n",
    "# Read the CSV file into a DataFrame\n",
    "df = pd.read_csv(file_path)\n",
    "\n",
    "# Display the first few rows of the DataFrame\n",
    "print(df.head())\n",
    "\n",
    "for index,image in df[0:1].iterrows():\n",
    "    print(image['IMAGE_VERSION_1'])\n",
    "    print(image['IMAGE_VERSION_2'])\n",
    "    print(image['IMAGE_VERSION_3'])"
   ]
  },
  {
   "cell_type": "code",
   "execution_count": 3,
   "metadata": {},
   "outputs": [
    {
     "name": "stdout",
     "output_type": "stream",
     "text": [
      "IMAGE_VERSION_1       2\n",
      "IMAGE_VERSION_2     113\n",
      "IMAGE_VERSION_3    9001\n",
      "dtype: int64\n"
     ]
    }
   ],
   "source": [
    "# show how many nan values are in the dataframe\n",
    "print(df.isnull().sum())"
   ]
  },
  {
   "cell_type": "code",
   "execution_count": 4,
   "metadata": {},
   "outputs": [
    {
     "data": {
      "text/html": [
       "<div>\n",
       "<style scoped>\n",
       "    .dataframe tbody tr th:only-of-type {\n",
       "        vertical-align: middle;\n",
       "    }\n",
       "\n",
       "    .dataframe tbody tr th {\n",
       "        vertical-align: top;\n",
       "    }\n",
       "\n",
       "    .dataframe thead th {\n",
       "        text-align: right;\n",
       "    }\n",
       "</style>\n",
       "<table border=\"1\" class=\"dataframe\">\n",
       "  <thead>\n",
       "    <tr style=\"text-align: right;\">\n",
       "      <th></th>\n",
       "      <th>IMAGE_VERSION_1</th>\n",
       "      <th>IMAGE_VERSION_2</th>\n",
       "      <th>IMAGE_VERSION_3</th>\n",
       "    </tr>\n",
       "  </thead>\n",
       "  <tbody>\n",
       "    <tr>\n",
       "      <th>0</th>\n",
       "      <td>https://static.zara.net/photos///2024/V/0/3/p/...</td>\n",
       "      <td>https://static.zara.net/photos///2024/V/0/3/p/...</td>\n",
       "      <td>https://static.zara.net/photos///2024/V/0/3/p/...</td>\n",
       "    </tr>\n",
       "    <tr>\n",
       "      <th>1</th>\n",
       "      <td>https://static.zara.net/photos///2024/V/0/3/p/...</td>\n",
       "      <td>https://static.zara.net/photos///2024/V/0/3/p/...</td>\n",
       "      <td>https://static.zara.net/photos///2024/V/0/3/p/...</td>\n",
       "    </tr>\n",
       "    <tr>\n",
       "      <th>2</th>\n",
       "      <td>https://static.zara.net/photos///2024/V/0/1/p/...</td>\n",
       "      <td>https://static.zara.net/photos///2024/V/0/1/p/...</td>\n",
       "      <td>https://static.zara.net/photos///2024/V/0/1/p/...</td>\n",
       "    </tr>\n",
       "    <tr>\n",
       "      <th>3</th>\n",
       "      <td>https://static.zara.net/photos///2024/V/0/2/p/...</td>\n",
       "      <td>https://static.zara.net/photos///2024/V/0/2/p/...</td>\n",
       "      <td>https://static.zara.net/photos///2024/V/0/2/p/...</td>\n",
       "    </tr>\n",
       "    <tr>\n",
       "      <th>4</th>\n",
       "      <td>https://static.zara.net/photos///2024/V/0/2/p/...</td>\n",
       "      <td>https://static.zara.net/photos///2024/V/0/2/p/...</td>\n",
       "      <td>https://static.zara.net/photos///2024/V/0/2/p/...</td>\n",
       "    </tr>\n",
       "  </tbody>\n",
       "</table>\n",
       "</div>"
      ],
      "text/plain": [
       "                                     IMAGE_VERSION_1   \n",
       "0  https://static.zara.net/photos///2024/V/0/3/p/...  \\\n",
       "1  https://static.zara.net/photos///2024/V/0/3/p/...   \n",
       "2  https://static.zara.net/photos///2024/V/0/1/p/...   \n",
       "3  https://static.zara.net/photos///2024/V/0/2/p/...   \n",
       "4  https://static.zara.net/photos///2024/V/0/2/p/...   \n",
       "\n",
       "                                     IMAGE_VERSION_2   \n",
       "0  https://static.zara.net/photos///2024/V/0/3/p/...  \\\n",
       "1  https://static.zara.net/photos///2024/V/0/3/p/...   \n",
       "2  https://static.zara.net/photos///2024/V/0/1/p/...   \n",
       "3  https://static.zara.net/photos///2024/V/0/2/p/...   \n",
       "4  https://static.zara.net/photos///2024/V/0/2/p/...   \n",
       "\n",
       "                                     IMAGE_VERSION_3  \n",
       "0  https://static.zara.net/photos///2024/V/0/3/p/...  \n",
       "1  https://static.zara.net/photos///2024/V/0/3/p/...  \n",
       "2  https://static.zara.net/photos///2024/V/0/1/p/...  \n",
       "3  https://static.zara.net/photos///2024/V/0/2/p/...  \n",
       "4  https://static.zara.net/photos///2024/V/0/2/p/...  "
      ]
     },
     "execution_count": 4,
     "metadata": {},
     "output_type": "execute_result"
    }
   ],
   "source": [
    "# remove all rows with nan values\n",
    "df = df.dropna()\n",
    "\n",
    "df.head()"
   ]
  },
  {
   "cell_type": "code",
   "execution_count": 6,
   "metadata": {},
   "outputs": [],
   "source": [
    "# save the dataframe to a new csv file\n",
    "df.to_csv('inditex_df_no_nan.csv', index=False)"
   ]
  }
 ],
 "metadata": {
  "kernelspec": {
   "display_name": "Python 3",
   "language": "python",
   "name": "python3"
  },
  "language_info": {
   "codemirror_mode": {
    "name": "ipython",
    "version": 3
   },
   "file_extension": ".py",
   "mimetype": "text/x-python",
   "name": "python",
   "nbconvert_exporter": "python",
   "pygments_lexer": "ipython3",
   "version": "3.10.11"
  }
 },
 "nbformat": 4,
 "nbformat_minor": 2
}
