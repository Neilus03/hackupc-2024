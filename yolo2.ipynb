{
 "cells": [
  {
   "cell_type": "code",
   "execution_count": 1,
   "metadata": {},
   "outputs": [],
   "source": [
    "import cv2\n",
    "from inference_sdk import InferenceHTTPClient\n",
    "\n",
    "\n",
    "CLIENT = InferenceHTTPClient(\n",
    "    api_url=\"https://detect.roboflow.com\",\n",
    "    api_key=\"RQyd3bogNb9shYvNLGqO\"\n",
    ")\n"
   ]
  },
  {
   "cell_type": "code",
   "execution_count": null,
   "metadata": {},
   "outputs": [],
   "source": []
  },
  {
   "cell_type": "code",
   "execution_count": 8,
   "metadata": {},
   "outputs": [],
   "source": [
    "import base64\n",
    "\n",
    "def detect_hand_gesture_webcam():\n",
    "    cap = cv2.VideoCapture(0)  # Webcam capture\n",
    "    while cap.isOpened():\n",
    "        ret, frame = cap.read()\n",
    "        if not ret:\n",
    "            break\n",
    "        # Convert frame to JPEG format\n",
    "        _, buffer = cv2.imencode('.jpg', frame)\n",
    "        # Convert buffer to bytes\n",
    "        img_bytes = buffer.tobytes()\n",
    "        # Encode image bytes in Base64 format\n",
    "        img_base64 = base64.b64encode(img_bytes).decode('utf-8')\n",
    "        # Perform inference\n",
    "        result = CLIENT.infer(img_base64, model_id=\"hand-gesture-r7qgb/2\")\n",
    "        # Process the inference result\n",
    "        # (This depends on the format of the result returned by the inference API)\n",
    "        # Display the frame\n",
    "        cv2.imshow('Hand Gesture Detection', frame)\n",
    "\n",
    "        if result['predictions'] != []:\n",
    "            for i in range(len(result['predictions'])):\n",
    "              resultt = result['predictions'][i]['class']\n",
    "              print(resultt)\n",
    "        \n",
    "        \n",
    "        if cv2.waitKey(1) == ord('q'):  # Quit on 'q' key press\n",
    "            break\n",
    "    cap.release()\n",
    "    cv2.destroyAllWindows()\n"
   ]
  },
  {
   "cell_type": "markdown",
   "metadata": {},
   "source": []
  },
  {
   "cell_type": "code",
   "execution_count": 10,
   "metadata": {},
   "outputs": [
    {
     "name": "stdout",
     "output_type": "stream",
     "text": [
      "Up\n",
      "Thumbs up\n",
      "Thumbs up\n",
      "Thumbs up\n",
      "Thumbs up\n",
      "Thumbs up\n",
      "Thumbs up\n",
      "Right\n",
      "Thumbs up\n",
      "Thumbs Down\n",
      "Thumbs Down\n",
      "Thumbs Down\n",
      "Thumbs Down\n",
      "Thumbs up\n",
      "Thumbs Down\n",
      "Thumbs Down\n",
      "Thumbs Down\n",
      "Thumbs up\n"
     ]
    }
   ],
   "source": [
    "detect_hand_gesture_webcam()\n"
   ]
  },
  {
   "cell_type": "code",
   "execution_count": null,
   "metadata": {},
   "outputs": [],
   "source": []
  }
 ],
 "metadata": {
  "kernelspec": {
   "display_name": "Python 3",
   "language": "python",
   "name": "python3"
  },
  "language_info": {
   "codemirror_mode": {
    "name": "ipython",
    "version": 3
   },
   "file_extension": ".py",
   "mimetype": "text/x-python",
   "name": "python",
   "nbconvert_exporter": "python",
   "pygments_lexer": "ipython3",
   "version": "3.12.2"
  }
 },
 "nbformat": 4,
 "nbformat_minor": 2
}
